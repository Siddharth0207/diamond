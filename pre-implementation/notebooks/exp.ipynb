{
 "cells": [
  {
   "cell_type": "code",
   "execution_count": 1,
   "metadata": {},
   "outputs": [],
   "source": [
    "from langchain.document_loaders import PyPDFLoader, DirectoryLoader\n",
    "from langchain.text_splitter import RecursiveCharacterTextSplitter  \n"
   ]
  },
  {
   "cell_type": "code",
   "execution_count": 4,
   "metadata": {},
   "outputs": [],
   "source": [
    "#data loading from document using LangChain's DocumentLoader\n",
    "def load_pdf_data(data):\n",
    "    loader = DirectoryLoader( data,\n",
    "                             glob = \"*.pdf\",\n",
    "                             loader_cls = PyPDFLoader)\n",
    "    documents = loader.load()\n",
    "    return documents"
   ]
  },
  {
   "cell_type": "code",
   "execution_count": 5,
   "metadata": {},
   "outputs": [],
   "source": [
    "my_data = load_pdf_data(r\"C:\\Users\\DNK109\\Documents\\voice_agent\\document\")"
   ]
  },
  {
   "cell_type": "code",
   "execution_count": 6,
   "metadata": {},
   "outputs": [
    {
     "data": {
      "text/plain": [
       "[Document(metadata={'producer': 'Skia/PDF m137 Google Docs Renderer', 'creator': 'PyPDF', 'creationdate': '', 'title': 'Diamond FAQ', 'source': 'C:\\\\Users\\\\DNK109\\\\Documents\\\\voice_agent\\\\document\\\\Diamond FAQ.pdf', 'total_pages': 4, 'page': 0, 'page_label': '1'}, page_content='Frequently  Asked  Questions  (FAQ)  -  \\nSparkle\\n \\nGems\\n \\nJewelry\\n \\nWelcome  to  the  Sparkle  Gems  Jewelry  FAQ  page!  Here,  we  answer  common  questions  \\nabout\\n \\nour\\n \\norganization,\\n \\nsales\\n \\nprocess,\\n \\nand\\n \\nour\\n \\nexquisite\\n \\ndiamond\\n \\nproducts.\\n \\nWhether\\n \\nyou’re\\n \\ncurious\\n \\nabout\\n \\nour\\n \\nworking\\n \\nhours,\\n \\nhow\\n \\nto\\n \\npurchase\\n \\na\\n \\ndiamond,\\n \\nor\\n \\nthe\\n \\ntypes\\n \\nof\\n \\ndiamonds\\n \\nand\\n \\ncuts\\n \\nwe\\n \\noffer,\\n \\nwe’ve\\n \\ngot\\n \\nyou\\n \\ncovered.\\n \\nIf\\n \\nyou\\n \\ndon’t\\n \\nfind\\n \\nwhat\\n \\nyou’re\\n \\nlooking\\n \\nfor,\\n \\ncontact\\n \\nus\\n \\nat\\n \\nsupport@sparklegems.com\\n \\nor\\n \\ncall\\n \\n(800)\\n \\n555-1234.\\n \\nOrganization  Working  Hours  \\nWhat  are  your  store  operating  hours?  \\nOur\\n \\nretail\\n \\nstores\\n \\nare\\n \\nopen\\n \\nMonday\\n \\nto\\n \\nSaturday,\\n \\n10:00\\n \\nAM\\n \\nto\\n \\n7:00\\n \\nPM,\\n \\nand\\n \\nSunday,\\n \\n12:00\\n \\nPM\\n \\nto\\n \\n5:00\\n \\nPM.\\n \\nDuring\\n \\nmajor\\n \\nholidays\\n \\n(Thanksgiving,\\n \\nChristmas,\\n \\nValentine’s\\n \\nDay,\\n \\nMother’s\\n \\nDay),\\n \\nhours\\n \\nmay\\n \\nextend\\n \\nto\\n \\n9:00\\n \\nPM.\\n \\nCheck\\n \\nour\\n \\nwebsite\\n \\nfor\\n \\nspecific\\n \\nstore\\n \\nhours\\n \\nor\\n \\nholiday\\n \\nschedules.\\n \\nWhat  are  the  hours  for  your  corporate  office?  \\nOur\\n \\nStore\\n \\nSupport\\n \\nCenter\\n \\noperates\\n \\nMonday\\n \\nto\\n \\nFriday,\\n \\n7:00\\n \\nAM\\n \\nto\\n \\n7:00\\n \\nPM.\\n \\nWeekend\\n \\nhours\\n \\nare\\n \\nadded\\n \\nduring\\n \\npeak\\n \\nholiday\\n \\nseasons\\n \\nto\\n \\nsupport\\n \\nour\\n \\nstores.\\n \\nCan  I  schedule  an  appointment  outside  regular  hours?  \\nYes!\\n \\nWe\\n \\noffer\\n \\nprivate\\n \\nappointments\\n \\nfor\\n \\npersonalized\\n \\nshopping\\n \\nexperiences.\\n \\nContact\\n \\nus\\n \\nto\\n \\narrange\\n \\na\\n \\ntime\\n \\nthat\\n \\nsuits\\n \\nyou,\\n \\nsubject\\n \\nto\\n \\navailability.\\n \\nAre  your  online  services  available  24/7?  \\nOur\\n \\nwebsite\\n \\nis\\n \\naccessible\\n \\n24/7\\n \\nfor\\n \\nbrowsing\\n \\nand\\n \\npurchases.\\n \\nCustomer\\n \\nsupport\\n \\nis\\n \\navailable\\n \\nvia\\n \\nemail\\n \\nor\\n \\nchat\\n \\nfrom\\n \\n9:00\\n \\nAM\\n \\nto\\n \\n6:00\\n \\nPM,\\n \\nMonday\\n \\nto\\n \\nFriday.\\n \\nGeneral  FAQs  \\nWho  is  Sparkle  Gems  Jewelry?  \\nSparkle\\n \\nGems\\n \\nis\\n \\na\\n \\nfamily-owned\\n \\njewelry\\n \\nretailer\\n \\nspecializing\\n \\nin\\n \\nhigh-quality\\n \\nnatural\\n \\nand\\n \\nlab-grown\\n \\ndiamonds.\\n \\nWith\\n \\nover\\n \\n20\\n \\nyears\\n \\nin\\n \\nthe\\n \\nindustry,\\n \\nwe\\n \\npride\\n \\nourselves\\n \\non\\n \\nethical\\n \\nsourcing,\\n \\nexpert\\n \\ncraftsmanship,\\n \\nand\\n \\nexceptional\\n \\ncustomer\\n \\nservice.\\n \\nHow  can  I  contact  customer  support?  \\nReach\\n \\nus\\n \\nat\\n \\nsupport@sparklegems.com,\\n \\ncall\\n \\n(800)\\n \\n555-1234,\\n \\nor\\n \\nuse\\n \\nthe\\n \\nlive\\n \\nchat\\n \\non\\n \\nour\\n \\nwebsite.\\n \\nOur\\n \\nteam\\n \\nresponds\\n \\nwithin\\n \\n24\\n \\nhours\\n \\nduring\\n \\nbusiness\\n \\ndays.\\n \\nDo  you  offer  jewelry  appraisals  or  certifications?  \\nYes,\\n \\nall\\n \\nour\\n \\ndiamonds\\n \\ncome\\n \\nwith\\n \\na\\n \\ngrading\\n \\ncertificate\\n \\nfrom\\n \\nreputable\\n \\nlabs\\n \\nlike\\n \\nGIA\\n \\nor\\n \\nAGS.\\n \\nWe\\n \\nalso\\n \\nprovide\\n \\nappraisals\\n \\nfor\\n \\ninsurance\\n \\npurposes,\\n \\nupdated\\n \\nevery\\n \\n5\\n \\nyears.'),\n",
       " Document(metadata={'producer': 'Skia/PDF m137 Google Docs Renderer', 'creator': 'PyPDF', 'creationdate': '', 'title': 'Diamond FAQ', 'source': 'C:\\\\Users\\\\DNK109\\\\Documents\\\\voice_agent\\\\document\\\\Diamond FAQ.pdf', 'total_pages': 4, 'page': 1, 'page_label': '2'}, page_content='What  is  your  return  policy?  \\nWe\\n \\noffer\\n \\na\\n \\n30-day\\n \\nreturn\\n \\npolicy\\n \\nfor\\n \\nunused\\n \\nitems\\n \\nin\\n \\noriginal\\n \\ncondition,\\n \\nincluding\\n \\npackaging\\n \\nand\\n \\ncertificates.\\n \\nContact\\n \\nus\\n \\nto\\n \\ninitiate\\n \\na\\n \\nreturn.\\n \\nMade-to-order\\n \\nor\\n \\ncustom\\n \\nitems\\n \\nmay\\n \\nhave\\n \\ndifferent\\n \\nterms.\\n \\nDo  you  ship  internationally?  \\nYes,\\n \\nwe\\n \\nship\\n \\nto\\n \\nselect\\n \\ncountries\\n \\nwith\\n \\ninsured,\\n \\ntrackable\\n \\ndelivery.\\n \\nShipping\\n \\ntimes\\n \\nvary\\n \\n(2-4\\n \\nweeks).\\n \\nContact\\n \\nus\\n \\nfor\\n \\ndetails\\n \\non\\n \\nyour\\n \\nlocation.\\n \\nSales-Related  FAQs  \\nHow  can  I  purchase  a  diamond  ring  from  Sparkle  Gems?  \\nBrowse\\n \\nour\\n \\ncollection\\n \\nonline\\n \\nor\\n \\nvisit\\n \\na\\n \\nstore.\\n \\nOnline\\n \\npurchases\\n \\ncan\\n \\nbe\\n \\nmade\\n \\nwith\\n \\nmajor\\n \\ncredit/debit\\n \\ncards,\\n \\nAffirm\\n \\nfinancing,\\n \\nor\\n \\na\\n \\n6-month\\n \\nlayaway\\n \\nplan\\n \\nfor\\n \\norders\\n \\nover\\n \\n$1,000.\\n \\nIn-store,\\n \\nour\\n \\nteam\\n \\nwill\\n \\nguide\\n \\nyou\\n \\nthrough\\n \\nthe\\n \\nprocess.\\n \\nWhat  is  the  average  cost  of  a  diamond  ring?  \\nThe\\n \\naverage\\n \\nring\\n \\nretails\\n \\nfor\\n \\nabout\\n \\n$5,000,\\n \\nbut\\n \\nwe\\n \\noffer\\n \\nstunning\\n \\noptions\\n \\nstarting\\n \\nat\\n \\n$2,000.\\n \\nPrices\\n \\nvary\\n \\nbased\\n \\non\\n \\nthe\\n \\n4Cs\\n \\n(Cut,\\n \\nColor,\\n \\nClarity,\\n \\nCarat).\\n \\nUse\\n \\nour\\n \\nbudgeting\\n \\nguide\\n \\nonline\\n \\nto\\n \\nfind\\n \\nyour\\n \\nperfect\\n \\nring.\\n \\nDo  you  offer  financing  or  payment  plans?  \\nYes,\\n \\nwe\\n \\nprovide\\n \\n6-month\\n \\nlayaway\\n \\nfor\\n \\npurchases\\n \\nover\\n \\n$1,000\\n \\nand\\n \\n“Buy\\n \\nNow,\\n \\nPay\\n \\nLater”\\n \\nthrough\\n \\nAffirm\\n \\nat\\n \\ncheckout.\\n \\nContact\\n \\nour\\n \\nsales\\n \\nteam\\n \\nfor\\n \\ndetails.\\n \\nHow  long  does  it  take  to  receive  a  custom  or  made-to-order  ring?  \\nIn-stock\\n \\nrings\\n \\ntake\\n \\n2-4\\n \\nbusiness\\n \\ndays\\n \\nfor\\n \\nsizing.\\n \\nMade-to-order\\n \\nrings\\n \\ntake\\n \\n10-21\\n \\ndays,\\n \\nand\\n \\ncustom\\n \\ndesigns\\n \\ntake\\n \\n17-28\\n \\ndays.\\n \\nWe’ll\\n \\nprovide\\n \\nan\\n \\nestimated\\n \\nshipping\\n \\ndate\\n \\nat\\n \\npurchase.\\n \\nWhat  warranties  or  maintenance  do  you  offer?  \\nWe\\n \\nprovide\\n \\na\\n \\nlifetime\\n \\nwarranty\\n \\nagainst\\n \\nmanufacturing\\n \\ndefects\\n \\nand\\n \\na\\n \\nfree\\n \\n6-month\\n \\nmaintenance\\n \\npackage,\\n \\nincluding\\n \\none\\n \\nfree\\n \\nsizing,\\n \\nrhodium\\n \\nplating,\\n \\nand\\n \\nreplacement\\n \\nof\\n \\naccent\\n \\ndiamonds\\n \\nunder\\n \\n0.10\\n \\nct.\\n \\nHow  can  I  ensure  I’m  buying  a  conflict-free  diamond?  \\nAll\\n \\nour\\n \\ndiamonds\\n \\nare\\n \\nsourced\\n \\nfrom\\n \\nethical,\\n \\nnon-conflict\\n \\nregions\\n \\nlike\\n \\nBotswana,\\n \\nCanada,\\n \\nor\\n \\nAustralia.\\n \\nEach\\n \\ndiamond\\n \\ncomes\\n \\nwith\\n \\na\\n \\nGIA\\n \\nor\\n \\nAGS\\n \\ncertificate\\n \\nverifying\\n \\nits\\n \\norigin.\\n \\nDiamond  Types  and  Cutting  \\nWhat  types  of  diamonds  do  you  offer?  \\nWe\\n \\noffer:\\n \\n●  Natural  Diamonds :  Sourced  ethically,  certified  by  GIA  or  AGS,  available  in  colorless  \\nto\\n \\nfancy\\n \\ncolors\\n \\n(yellow,\\n \\nblue,\\n \\npink).\\n ●  Lab-Grown  Diamonds :  Eco-friendly,  chemically  identical  to  natural  diamonds,  often  \\nat\\n \\na\\n \\nlower\\n \\ncost.'),\n",
       " Document(metadata={'producer': 'Skia/PDF m137 Google Docs Renderer', 'creator': 'PyPDF', 'creationdate': '', 'title': 'Diamond FAQ', 'source': 'C:\\\\Users\\\\DNK109\\\\Documents\\\\voice_agent\\\\document\\\\Diamond FAQ.pdf', 'total_pages': 4, 'page': 2, 'page_label': '3'}, page_content='●  Clarity-Enhanced  Natural  Diamonds :  Treated  to  improve  clarity,  offering  value  \\nwithout\\n \\ncompromising\\n \\nsparkle.\\n ●  Moissanite :  A  diamond  alternative  with  high  brilliance,  ideal  for  budget-conscious  \\nbuyers.\\n \\nWhat  are  the  4Cs  of  diamonds?  \\nThe\\n \\n4Cs\\n \\ndefine\\n \\na\\n \\ndiamond’s\\n \\nquality:\\n \\n●  Cut :  Determines  sparkle  through  faceting,  angles,  and  proportions.  Ideal  cuts  \\nmaximize\\n \\nbrilliance.\\n ●  Color :  Measures  whiteness  (D-Z  scale  for  white  diamonds;  fancy  colors  like  yellow  or  \\npink).\\n \\nLess\\n \\ncolor\\n \\nis\\n \\nbetter\\n \\nfor\\n \\nwhite\\n \\ndiamonds.\\n ●  Clarity :  Assesses  microscopic  imperfections  (FL  to  I3).  We  avoid  I2/I3  due  to  visible  \\nflaws.\\n ●  Carat :  Indicates  weight/size  (1  carat  =  200  mg).  Average  size  is  0.70-1.00  ct.  Bigger  \\nisn’t\\n \\nalways\\n \\nbetter—balance\\n \\nwith\\n \\ncut\\n \\nfor\\n \\nbeauty.\\n \\nWhat  diamond  cuts  do  you  offer?  \\nOur\\n \\ndiamonds\\n \\nare\\n \\ncut\\n \\nto\\n \\nmaximize\\n \\nsparkle,\\n \\nwith\\n \\nthe\\n \\nfollowing\\n \\nshapes:\\n \\n●  Round  Brilliant :  The  most  popular,  classic  cut  with  exceptional  sparkle  and  a  \\npremium\\n \\nprice.\\n \\nAccounts\\n \\nfor\\n \\n60%\\n \\nof\\n \\nour\\n \\nsales.\\n ●  Princess :  Square  shape  with  sharp  edges,  modern  and  sparkly,  second  most  \\npopular.\\n ●  Cushion :  Soft  square/rectangular  with  rounded  corners,  offering  a  romantic,  vintage  \\nlook.\\n ●  Oval :  Elongated,  flattering  on  fingers,  with  strong  brilliance.  ●  Marquise :  Boat-shaped,  unique,  and  appears  larger  due  to  its  length.  ●  Pear :  Teardrop  shape,  elegant  for  pendants  or  rings.  \\nAll\\n \\nour\\n \\ncuts\\n \\nachieve\\n \\nexcellent\\n \\npolish\\n \\nand\\n \\nsymmetry,\\n \\ncertified\\n \\nby\\n \\nGIA\\n \\nor\\n \\nAGS.\\n \\nWhat  is  an  ideal  cut  diamond?  \\nAn\\n \\nideal\\n \\ncut\\n \\ndiamond\\n \\nhas\\n \\nprecise\\n \\ncrown\\n \\nand\\n \\npavilion\\n \\nangles\\n \\nto\\n \\nreflect\\n \\nlight\\n \\noptimally,\\n \\nmaximizing\\n \\nsparkle.\\n \\nOur\\n \\njewelers\\n \\nhand-pick\\n \\nideal\\n \\ncut\\n \\ndiamonds\\n \\nfor\\n \\npreset\\n \\nrings\\n \\nto\\n \\nensure\\n \\nmaximum\\n \\nbrilliance.\\n \\nHow  do  I  choose  the  right  diamond  cut?  \\nConsider\\n \\nyour\\n \\nstyle\\n \\nand\\n \\nfinger\\n \\nshape:\\n \\n●  Traditional :  Round  or  princess  cuts  for  timeless  elegance.  ●  Modern :  Cushion  or  oval  for  a  soft,  trendy  look.  ●  Bold :  Marquise  or  pear  for  a  unique  statement.  \\nVisit\\n \\nour\\n \\nstore\\n \\nto\\n \\ntry\\n \\non\\n \\nshapes\\n \\nor\\n \\nuse\\n \\nour\\n \\nonline\\n \\nguide\\n \\nto\\n \\nmatch\\n \\ncuts\\n \\nto\\n \\nhand\\n \\ntypes.\\n \\nDo  you  offer  custom  diamond  cutting?  \\nYes,\\n \\nwe\\n \\nwork\\n \\nwith\\n \\nexpert\\n \\ncutters\\n \\nto\\n \\ncreate\\n \\ncustom\\n \\nshapes\\n \\nor\\n \\nenhance\\n \\nsparkle\\n \\nfor\\n \\nselect\\n \\nstones.\\n \\nContact\\n \\nus\\n \\nto\\n \\ndiscuss\\n \\nyour\\n \\nvision\\n \\nand\\n \\ntimeline\\n \\n(typically\\n \\n4-6\\n \\nweeks).'),\n",
       " Document(metadata={'producer': 'Skia/PDF m137 Google Docs Renderer', 'creator': 'PyPDF', 'creationdate': '', 'title': 'Diamond FAQ', 'source': 'C:\\\\Users\\\\DNK109\\\\Documents\\\\voice_agent\\\\document\\\\Diamond FAQ.pdf', 'total_pages': 4, 'page': 3, 'page_label': '4'}, page_content='Still  Have  Questions?  \\nIf  you  can’t  find  the  answer  you  need,  reach  out  to  our  team  at  support@sparklegems.com  \\nor\\n \\n(800)\\n \\n555-1234.\\n \\nVisit\\n \\nour\\n \\nwebsite\\n \\nfor\\n \\nlive\\n \\nchat\\n \\nor\\n \\nto\\n \\nschedule\\n \\nan\\n \\nin-store\\n \\nconsultation.\\n \\nWe’re\\n \\nhere\\n \\nto\\n \\nmake\\n \\nyour\\n \\njewelry\\n \\nexperience\\n \\nsparkle!\\n \\nLast  Updated:  May  6,  2025')]"
      ]
     },
     "execution_count": 6,
     "metadata": {},
     "output_type": "execute_result"
    }
   ],
   "source": [
    "my_data"
   ]
  }
 ],
 "metadata": {
  "kernelspec": {
   "display_name": "voice",
   "language": "python",
   "name": "python3"
  },
  "language_info": {
   "codemirror_mode": {
    "name": "ipython",
    "version": 3
   },
   "file_extension": ".py",
   "mimetype": "text/x-python",
   "name": "python",
   "nbconvert_exporter": "python",
   "pygments_lexer": "ipython3",
   "version": "3.13.3"
  }
 },
 "nbformat": 4,
 "nbformat_minor": 2
}
